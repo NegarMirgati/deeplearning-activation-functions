{
 "cells": [
  {
   "cell_type": "code",
   "execution_count": 1,
   "metadata": {},
   "outputs": [
    {
     "data": {
      "text/html": [
       "<img src=\"https://shahaab-co.ir/mag/wp-content/uploads/2019/05/dnn-activation-function-14.png\"/>"
      ],
      "text/plain": [
       "<IPython.core.display.Image object>"
      ]
     },
     "execution_count": 1,
     "metadata": {},
     "output_type": "execute_result"
    }
   ],
   "source": [
    "from IPython.display import Image\n",
    "from IPython.core.display import HTML \n",
    "Image(url= \"https://shahaab-co.ir/mag/wp-content/uploads/2019/05/dnn-activation-function-14.png\")"
   ]
  },
  {
   "cell_type": "code",
   "execution_count": 2,
   "metadata": {},
   "outputs": [
    {
     "data": {
      "text/html": [
       "<img src=\"https://www.henryailabs.com/ArticlePictures/3-4-19-4.jpg\"/>"
      ],
      "text/plain": [
       "<IPython.core.display.Image object>"
      ]
     },
     "execution_count": 2,
     "metadata": {},
     "output_type": "execute_result"
    }
   ],
   "source": [
    "Image(url = \"https://www.henryailabs.com/ArticlePictures/3-4-19-4.jpg\")"
   ]
  },
  {
   "cell_type": "code",
   "execution_count": 3,
   "metadata": {},
   "outputs": [],
   "source": [
    "# import libraries\n",
    "import numpy as np\n",
    "import matplotlib\n",
    "import matplotlib.pyplot as plt\n",
    "%matplotlib inline"
   ]
  },
  {
   "cell_type": "code",
   "execution_count": 4,
   "metadata": {},
   "outputs": [],
   "source": [
    "# 1 - Sigmoid\n",
    "def sigmoid(x):\n",
    "    s = (1 / (1 +  np.exp(-1 * x)))\n",
    "    return s"
   ]
  },
  {
   "cell_type": "code",
   "execution_count": 5,
   "metadata": {},
   "outputs": [],
   "source": [
    "# 2 - Tanh\n",
    "def tanh(x):\n",
    "    t = np.tanh(x)\n",
    "    return t"
   ]
  },
  {
   "cell_type": "code",
   "execution_count": 6,
   "metadata": {},
   "outputs": [],
   "source": [
    "# 3 - ReLU\n",
    "def relu(x):\n",
    "    r =  np.maximum(0,x)   \n",
    "    return r"
   ]
  },
  {
   "cell_type": "code",
   "execution_count": 7,
   "metadata": {},
   "outputs": [],
   "source": [
    "#4 - Leaky ReLU\n",
    "def leaky_relu(x, alpha=0.01):\n",
    "    \"\"\"\n",
    "    Compute the leaky ReLU of x\n",
    "    \n",
    "    Arguments: X -- A scalar or numpy array of any size\n",
    "               α -- Activation slope when x < 0. Default is 0.01\n",
    "               The hyperparameter α defines how much the function leaks\n",
    "    Return:\n",
    "    lrelu -- leaky_relu(x)\n",
    "    \"\"\"\n",
    "    lrelu = np.where(x > 0, x, x * alpha)                  \n",
    "    return lrelu"
   ]
  },
  {
   "cell_type": "code",
   "execution_count": 8,
   "metadata": {},
   "outputs": [],
   "source": [
    "# 5 - Softmax\n",
    "# see this https://cs231n.github.io/linear-classify/#softmax\n",
    "# (this implementation is numerically stable)\n",
    "def softmax(x):\n",
    "    z = x - np.max(x, axis=x.ndim - 1, keepdims=True)\n",
    "    return np.exp(z) / np.sum(np.exp(z), axis=x.ndim - 1, keepdims=True)"
   ]
  },
  {
   "cell_type": "code",
   "execution_count": 9,
   "metadata": {},
   "outputs": [],
   "source": [
    "# 6 - ELU\n",
    "def elu(x, alpha=2):\n",
    "    e = np.where(x < 0, alpha * (np.exp(x) - 1), x)\n",
    "    return e"
   ]
  },
  {
   "cell_type": "code",
   "execution_count": 10,
   "metadata": {},
   "outputs": [],
   "source": [
    "# 7 - SELU\n",
    "def selu(x, alpha=1.6732632423543772848170429916717, lamb=1.0507009873554804934193349852946):\n",
    "    return np.where(x < 0, lamb * alpha * (np.exp(x) - 1), x)"
   ]
  },
  {
   "cell_type": "code",
   "execution_count": 11,
   "metadata": {},
   "outputs": [],
   "source": [
    "# 8 - Maxout\n",
    "# https://cs231n.github.io/neural-networks-1/ look for \"maxout\"\n",
    "# Assuming k = 2\n",
    "def maxout(x, W1, b1, W2, b2):\n",
    "    return np.maximum(np.dot(x, W1) + b1, np.dot(x, W2) + b2)"
   ]
  },
  {
   "cell_type": "code",
   "execution_count": 12,
   "metadata": {},
   "outputs": [],
   "source": [
    "# create a test matrix\n",
    "mmatrix= np.array([[1,2,3],[4,5,6]])"
   ]
  },
  {
   "cell_type": "code",
   "execution_count": 13,
   "metadata": {},
   "outputs": [],
   "source": [
    "# test sigmoid\n",
    "def test_sigmoid(x):\n",
    "    sigmoid_ans = sigmoid(x)\n",
    "    expected_ans = np.array([[0.73105858, 0.88079708, 0.95257413],\n",
    "       [0.98201379, 0.99330715, 0.99752738]])\n",
    "    assert np.allclose(sigmoid_ans, expected_ans)\n",
    "    \n",
    "test_sigmoid(mmatrix)"
   ]
  },
  {
   "cell_type": "code",
   "execution_count": 14,
   "metadata": {},
   "outputs": [],
   "source": [
    "# test tanh\n",
    "def test_tanh(x):\n",
    "    ans = tanh(x)\n",
    "    expected_ans = np.array([[0.761594155, 0.964027580, 0.99505475], [0.99932929, 0.999909, 0.999987]])\n",
    "    assert np.allclose(ans, expected_ans)\n",
    "    \n",
    "test_tanh(mmatrix)"
   ]
  },
  {
   "cell_type": "code",
   "execution_count": 15,
   "metadata": {},
   "outputs": [],
   "source": [
    "# test relu\n",
    "relu_test_matrix = np.array([[-1, 2.5], [3, -0.2]])\n",
    "def test_relu(x):\n",
    "    ans =  relu(x)\n",
    "    expected = np.array([[0, 2.5], [3, 0]])\n",
    "    assert np.allclose(expected, ans)\n",
    "    \n",
    "test_relu(relu_test_matrix)"
   ]
  },
  {
   "cell_type": "code",
   "execution_count": 16,
   "metadata": {},
   "outputs": [
    {
     "data": {
      "image/png": "[encoded data removed]",
      "text/plain": [
       "<Figure size 432x288 with 1 Axes>"
      ]
     },
     "metadata": {
      "needs_background": "light"
     },
     "output_type": "display_data"
    }
   ],
   "source": [
    "# test leaky relu and plot it\n",
    "leaky_test_matrix = np.array([[-1, 2], [3, 0]])\n",
    "def test_leaky_relu(x):\n",
    "    ans = leaky_relu(x)\n",
    "    expected_ans = np.array([[-0.01, 2], [3, 0]])\n",
    "    assert np.allclose(ans, expected_ans)\n",
    "    \n",
    "test_leaky_relu(leaky_test_matrix)\n",
    "\n",
    "#plot leaky relu\n",
    "z = np.linspace(-5, 5, 200)\n",
    "plt.plot(z, leaky_relu(z, 0.05), \"b-\", linewidth=2)\n",
    "plt.plot([-5, 5], [0, 0], 'k-')\n",
    "plt.plot([0, 0], [-0.5, 4.2], 'k-')\n",
    "plt.grid(True)\n",
    "props = dict(facecolor='black', shrink=0.1)\n",
    "plt.annotate('Leak', xytext=(-3.5, 0.5), xy=(-5, -0.2), arrowprops=props, fontsize=14, ha=\"center\")\n",
    "plt.title(\"Leaky ReLU activation function\", fontsize=14)\n",
    "plt.axis([-5, 5, -0.5, 4.2])\n",
    "\n",
    "plt.savefig(\"leaky_relu_plot\")\n",
    "plt.show()"
   ]
  },
  {
   "cell_type": "code",
   "execution_count": 17,
   "metadata": {},
   "outputs": [],
   "source": [
    "# test softmax\n",
    "def test_softmax(x):\n",
    "    ans = softmax(x)\n",
    "    expected_ans =  np.array([[0.09003057, 0.24472847, 0.66524096],\n",
    "       [0.09003057, 0.24472847, 0.66524096]])\n",
    "    assert np.allclose(ans, expected_ans)\n",
    "test_softmax(mmatrix)"
   ]
  },
  {
   "cell_type": "code",
   "execution_count": 18,
   "metadata": {},
   "outputs": [
    {
     "data": {
      "image/png": "[encoded data removed]",
      "text/plain": [
       "<Figure size 432x288 with 1 Axes>"
      ]
     },
     "metadata": {
      "needs_background": "light"
     },
     "output_type": "display_data"
    }
   ],
   "source": [
    "# test elu and plot it\n",
    "elu_test_matrix = np.array([[-1, 2], [3, -0.5]])\n",
    "def test_elu(x):\n",
    "    ans = elu(x)\n",
    "    expected_ans = np.array([[-1.264241, 2.], [3., -0.786938]])\n",
    "    assert np.allclose(expected_ans, ans)\n",
    "test_elu(elu_test_matrix)\n",
    "\n",
    "z = np.linspace(-5, 5, 200)\n",
    "plt.plot(z, elu(z, 2), \"b-\", linewidth=2)\n",
    "plt.plot([-5, 5], [0, 0], 'k-')\n",
    "plt.plot([-5, 5], [-1, -1], 'k--')\n",
    "plt.plot([0, 0], [-2.2, 3.2], 'k-')\n",
    "plt.grid(True)\n",
    "plt.title(r\"ELU activation function ($\\alpha=2$)\", fontsize=14)\n",
    "plt.axis([-5, 5, -2.2, 3.2])\n",
    "plt.savefig(\"elu_plot\")\n",
    "plt.show()"
   ]
  },
  {
   "cell_type": "code",
   "execution_count": 19,
   "metadata": {},
   "outputs": [
    {
     "data": {
      "image/png": "[encoded data removed]",
      "text/plain": [
       "<Figure size 432x288 with 1 Axes>"
      ]
     },
     "metadata": {
      "needs_background": "light"
     },
     "output_type": "display_data"
    }
   ],
   "source": [
    "# test selu and plot it\n",
    "selu_test_matrix = np.array([[-1, 2], [3, -0.5]])\n",
    "def test_selu(x):\n",
    "    ans = selu(x)\n",
    "    expected_ans = np.array([[-1.11133, 2.], [3., -0.691758]])\n",
    "    assert np.allclose(ans, expected_ans)\n",
    "    \n",
    "test_selu(selu_test_matrix)\n",
    "\n",
    "z = np.linspace(-5, 5, 200)\n",
    "plt.plot(z, selu(z), \"b-\", linewidth=2)\n",
    "plt.plot([-5, 5], [0, 0], 'k-')\n",
    "plt.plot([-5, 5], [-1, -1], 'k--')\n",
    "plt.plot([0, 0], [-2.2, 3.2], 'k-')\n",
    "plt.grid(True)\n",
    "plt.title(r\"SELU activation function ($\\alpha \\approx 1.6732$ and $\\lambda \\approx 1.0507$)\", fontsize=14)\n",
    "plt.axis([-5, 5, -2.2, 3.2])\n",
    "\n",
    "plt.savefig(\"selu_plot\")\n",
    "plt.show()"
   ]
  },
  {
   "cell_type": "code",
   "execution_count": 20,
   "metadata": {},
   "outputs": [
    {
     "data": {
      "image/png": "[encoded data removed]",
      "text/plain": [
       "<Figure size 432x288 with 1 Axes>"
      ]
     },
     "metadata": {
      "needs_background": "light"
     },
     "output_type": "display_data"
    },
    {
     "name": "stdout",
     "output_type": "stream",
     "text": [
      "result of maxout:  [[ 5. ]\n",
      " [15.5]]\n"
     ]
    }
   ],
   "source": [
    "# maxout test and plot\n",
    "m = 4\n",
    "W1 = np.array([-2])\n",
    "W2 = np.array([1.5])\n",
    "b1 = np.array([-1])\n",
    "b2 = np.array([-2.5])\n",
    "x = np.linspace(-5, 5, 200).reshape(200, 1) # 200 [1*1]\n",
    "ans = maxout(x=x, W1=W1, b1=b1, W2=W2, b2=b2)\n",
    "plt.plot(x, ans, \"b-\", linewidth=2)\n",
    "plt.plot([-5, 5], [0, 0], 'k-')\n",
    "plt.plot([0, 0], [-2.2, 3.2], 'k-')\n",
    "plt.grid(True)\n",
    "plt.title(r\"Maxout activation function\", fontsize=14)\n",
    "plt.axis([-5, 5, -2.2, 3.2])\n",
    "\n",
    "plt.savefig(\"maxout_plot with two linear models\")\n",
    "plt.show()\n",
    "\n",
    "def test_maxout():\n",
    "    z = np.array([[1, 2, 3], [6, 3, 1]])\n",
    "    W1 = np.array([[-2], [-1], [1]])\n",
    "    W2 = np.array([[1.5], [3], [0]])\n",
    "    b1 = np.array([-1])\n",
    "    b2 = np.array([-2.5])\n",
    "    ans = maxout(z, W1=W1, b1=b1, W2=W2, b2=b2)\n",
    "    print(\"result of maxout: \", ans)\n",
    "test_maxout()\n"
   ]
  },
  {
   "cell_type": "code",
   "execution_count": null,
   "metadata": {},
   "outputs": [],
   "source": []
  }
 ],
 "metadata": {
  "kernelspec": {
   "display_name": "Python 3",
   "language": "python",
   "name": "python3"
  },
  "language_info": {
   "codemirror_mode": {
    "name": "ipython",
    "version": 3
   },
   "file_extension": ".py",
   "mimetype": "text/x-python",
   "name": "python",
   "nbconvert_exporter": "python",
   "pygments_lexer": "ipython3",
   "version": "3.8.3"
  }
 },
 "nbformat": 4,
 "nbformat_minor": 4
}
